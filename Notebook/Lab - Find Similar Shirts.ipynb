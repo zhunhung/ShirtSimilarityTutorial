{
 "cells": [
  {
   "cell_type": "code",
   "execution_count": null,
   "metadata": {
    "ExecuteTime": {
     "end_time": "2019-12-14T06:26:51.904091Z",
     "start_time": "2019-12-14T06:26:50.626979Z"
    }
   },
   "outputs": [],
   "source": [
    "import keras\n",
    "import numpy as np\n",
    "from keras.applications import mobilenet, mobilenet_v2\n",
    "from keras.models import Model\n",
    "from keras.preprocessing.image import load_img\n",
    "from keras.preprocessing.image import img_to_array\n",
    "from keras.applications.mobilenet import preprocess_input\n",
    "from keras.preprocessing import image\n",
    "import os\n",
    "import json\n",
    "from PIL import Image\n",
    "import math\n",
    "import matplotlib.pyplot as plt\n",
    "%matplotlib inline"
   ]
  },
  {
   "cell_type": "markdown",
   "metadata": {},
   "source": [
    "## 1. Load Pre-trained MobileNet"
   ]
  },
  {
   "cell_type": "code",
   "execution_count": null,
   "metadata": {
    "ExecuteTime": {
     "end_time": "2019-12-14T06:26:55.822819Z",
     "start_time": "2019-12-14T06:26:51.907154Z"
    }
   },
   "outputs": [],
   "source": [
    "mobilenet_model = mobilenet.MobileNet(weights='imagenet')"
   ]
  },
  {
   "cell_type": "code",
   "execution_count": null,
   "metadata": {
    "ExecuteTime": {
     "end_time": "2019-12-14T06:26:55.851899Z",
     "start_time": "2019-12-14T06:26:55.825454Z"
    }
   },
   "outputs": [],
   "source": [
    "mobilenet_model.summary()"
   ]
  },
  {
   "cell_type": "markdown",
   "metadata": {},
   "source": [
    "### 1.1 Remove last 5 layers"
   ]
  },
  {
   "cell_type": "code",
   "execution_count": null,
   "metadata": {
    "ExecuteTime": {
     "end_time": "2019-12-14T06:26:55.879368Z",
     "start_time": "2019-12-14T06:26:55.853621Z"
    }
   },
   "outputs": [],
   "source": [
    "new_model = Model(mobilenet_model.inputs, mobilenet_model.layers[-6].output)\n",
    "new_model.summary()"
   ]
  },
  {
   "cell_type": "markdown",
   "metadata": {},
   "source": [
    "## 2. Create Helper Functions"
   ]
  },
  {
   "cell_type": "code",
   "execution_count": null,
   "metadata": {
    "ExecuteTime": {
     "end_time": "2019-12-14T06:28:53.047975Z",
     "start_time": "2019-12-14T06:28:53.044195Z"
    }
   },
   "outputs": [],
   "source": [
    "def prepare_image(file):\n",
    "    img = image.load_img(file, target_size=(224, 224))\n",
    "    img_array = image.img_to_array(img)\n",
    "    img_array_expanded_dims = np.expand_dims(img_array, axis=0)\n",
    "    return keras.applications.mobilenet.preprocess_input(img_array_expanded_dims)"
   ]
  },
  {
   "cell_type": "code",
   "execution_count": null,
   "metadata": {
    "ExecuteTime": {
     "end_time": "2019-12-14T06:28:53.230980Z",
     "start_time": "2019-12-14T06:28:53.227963Z"
    }
   },
   "outputs": [],
   "source": [
    "def encode_image(file):\n",
    "    preprocessed_image = prepare_image(file)\n",
    "    predictions = new_model.predict(preprocessed_image)\n",
    "    return predictions.reshape(1024)"
   ]
  },
  {
   "cell_type": "markdown",
   "metadata": {},
   "source": [
    "## 3. Visualise all the shirts"
   ]
  },
  {
   "cell_type": "code",
   "execution_count": null,
   "metadata": {
    "ExecuteTime": {
     "end_time": "2019-12-14T06:32:47.055017Z",
     "start_time": "2019-12-14T06:32:47.051374Z"
    }
   },
   "outputs": [],
   "source": [
    "shirt_folder = os.path.join(os.curdir, 'shirts')\n",
    "shirt_imgs = [os.path.join(shirt_folder, fname) for fname in os.listdir(shirt_folder) if ('shirt' in fname) and ('jpg' in fname)]"
   ]
  },
  {
   "cell_type": "code",
   "execution_count": null,
   "metadata": {
    "ExecuteTime": {
     "end_time": "2019-12-14T06:32:49.100214Z",
     "start_time": "2019-12-14T06:32:47.303500Z"
    }
   },
   "outputs": [],
   "source": [
    "fig=plt.figure(figsize=(20, 10))\n",
    "columns = 5\n",
    "rows = math.ceil(len(shirt_imgs)/columns)\n",
    "for i in range(1, len(shirt_imgs)+1):\n",
    "    sample_img = Image.open(shirt_imgs[i-1])\n",
    "    fig.add_subplot(rows, columns, i)\n",
    "    # Plot file name\n",
    "    plt.title(shirt_imgs[i-1].split('/')[-1])\n",
    "    plt.imshow(sample_img)\n",
    "plt.show()"
   ]
  },
  {
   "cell_type": "markdown",
   "metadata": {},
   "source": [
    "## 4. Create Image Embedding for all Shirts"
   ]
  },
  {
   "cell_type": "code",
   "execution_count": null,
   "metadata": {
    "ExecuteTime": {
     "end_time": "2019-12-14T06:32:51.380281Z",
     "start_time": "2019-12-14T06:32:50.874918Z"
    }
   },
   "outputs": [],
   "source": [
    "shirt_encoding_map = {img: encode_image(img) for img in shirt_imgs}"
   ]
  },
  {
   "cell_type": "code",
   "execution_count": null,
   "metadata": {
    "ExecuteTime": {
     "end_time": "2019-12-14T06:32:51.386859Z",
     "start_time": "2019-12-14T06:32:51.381723Z"
    }
   },
   "outputs": [],
   "source": [
    "shirt_encoding_map"
   ]
  },
  {
   "cell_type": "markdown",
   "metadata": {},
   "source": [
    "## 5. Save Image Embeddings"
   ]
  },
  {
   "cell_type": "code",
   "execution_count": null,
   "metadata": {
    "ExecuteTime": {
     "end_time": "2019-12-14T06:32:52.810773Z",
     "start_time": "2019-12-14T06:32:52.807093Z"
    }
   },
   "outputs": [],
   "source": [
    "class NumpyEncoder(json.JSONEncoder):\n",
    "    def default(self, obj):\n",
    "        if isinstance(obj, np.ndarray):\n",
    "            return obj.tolist()\n",
    "        return json.JSONEncoder.default(self, obj)"
   ]
  },
  {
   "cell_type": "code",
   "execution_count": null,
   "metadata": {
    "ExecuteTime": {
     "end_time": "2019-12-14T06:32:53.070671Z",
     "start_time": "2019-12-14T06:32:53.056017Z"
    }
   },
   "outputs": [],
   "source": [
    "json_dump = json.dumps(shirt_encoding_map, cls=NumpyEncoder)\n",
    "f = open(\"shirt_encoding.txt\",\"w+\")\n",
    "f.write(json_dump)"
   ]
  },
  {
   "cell_type": "markdown",
   "metadata": {},
   "source": [
    "## 6. Create and Test Similarity Function"
   ]
  },
  {
   "cell_type": "code",
   "execution_count": null,
   "metadata": {
    "ExecuteTime": {
     "end_time": "2019-12-14T06:32:53.632927Z",
     "start_time": "2019-12-14T06:32:53.629634Z"
    }
   },
   "outputs": [],
   "source": [
    "def load_encoding(path):\n",
    "    with open(path, 'r') as f:\n",
    "        data_encoding = f.read()\n",
    "    return json.loads(data_encoding)"
   ]
  },
  {
   "cell_type": "code",
   "execution_count": null,
   "metadata": {
    "ExecuteTime": {
     "end_time": "2019-12-14T06:32:53.984744Z",
     "start_time": "2019-12-14T06:32:53.977261Z"
    }
   },
   "outputs": [],
   "source": [
    "shirt_encoding_map = load_encoding('shirt_encoding.txt')"
   ]
  },
  {
   "cell_type": "code",
   "execution_count": null,
   "metadata": {
    "ExecuteTime": {
     "end_time": "2019-12-14T06:32:54.238277Z",
     "start_time": "2019-12-14T06:32:54.234672Z"
    }
   },
   "outputs": [],
   "source": [
    "# Cosine Similarity function\n",
    "def getCS(encoding1, encoding2):\n",
    "    return np.dot(encoding1, np.array(encoding2))/(np.linalg.norm(encoding1)*np.linalg.norm(np.array(encoding2)))"
   ]
  },
  {
   "cell_type": "code",
   "execution_count": null,
   "metadata": {
    "ExecuteTime": {
     "end_time": "2019-12-14T06:32:54.478125Z",
     "start_time": "2019-12-14T06:32:54.473171Z"
    }
   },
   "outputs": [],
   "source": [
    "def find_similar(test_image_file, base_encoding_dict, threshold=0.5):\n",
    "    test_img_encoding = encode_image(test_image_file)\n",
    "    keys = list(base_encoding_dict.keys())\n",
    "    vals = list(base_encoding_dict.values())\n",
    "    sim_arr = list(map(lambda x: getCS(test_img_encoding, x), vals))\n",
    "    idx = np.argmax(sim_arr)\n",
    "    print(dict(zip(keys, sim_arr)))\n",
    "    if sim_arr[idx] < threshold:\n",
    "        return None\n",
    "    tag = keys[idx]\n",
    "    return tag"
   ]
  },
  {
   "cell_type": "code",
   "execution_count": null,
   "metadata": {
    "ExecuteTime": {
     "end_time": "2019-12-14T06:34:42.608004Z",
     "start_time": "2019-12-14T06:34:42.377364Z"
    }
   },
   "outputs": [],
   "source": [
    "# Image to be used for testing our function\n",
    "test_img_path = 'test/test4.jpg'\n",
    "test_img = Image.open(test_img_path)\n",
    "plt.imshow(test_img)"
   ]
  },
  {
   "cell_type": "code",
   "execution_count": null,
   "metadata": {
    "ExecuteTime": {
     "end_time": "2019-12-14T06:34:18.717484Z",
     "start_time": "2019-12-14T06:34:18.663503Z"
    },
    "scrolled": true
   },
   "outputs": [],
   "source": [
    "sim_img_fname = find_similar(test_img_path, shirt_encoding_map)\n",
    "print('\\nSimilar Image: {}'.format(sim_img_fname))"
   ]
  },
  {
   "cell_type": "markdown",
   "metadata": {},
   "source": [
    "### 6.1 Visualise Similar Images"
   ]
  },
  {
   "cell_type": "code",
   "execution_count": null,
   "metadata": {
    "ExecuteTime": {
     "end_time": "2019-12-14T06:33:34.268472Z",
     "start_time": "2019-12-14T06:33:34.264323Z"
    }
   },
   "outputs": [],
   "source": [
    "def get_concat_h(im1, im2):\n",
    "    dst = Image.new('RGB', (im1.width + im2.width, max(im1.height, im2.height)))\n",
    "    dst.paste(im1, (0, 0))\n",
    "    dst.paste(im2, (im1.width, 0))\n",
    "    return dst"
   ]
  },
  {
   "cell_type": "code",
   "execution_count": null,
   "metadata": {
    "ExecuteTime": {
     "end_time": "2019-12-14T06:33:34.882834Z",
     "start_time": "2019-12-14T06:33:34.661715Z"
    }
   },
   "outputs": [],
   "source": [
    "sim_img = Image.open(sim_img_fname)\n",
    "combined_images = get_concat_h(test_img, sim_img)\n",
    "plt.title('Test Shirt - Similar Shirt')\n",
    "plt.imshow(combined_images)"
   ]
  },
  {
   "cell_type": "code",
   "execution_count": null,
   "metadata": {},
   "outputs": [],
   "source": []
  }
 ],
 "metadata": {
  "kernelspec": {
   "display_name": "Python 3",
   "language": "python",
   "name": "python3"
  },
  "language_info": {
   "codemirror_mode": {
    "name": "ipython",
    "version": 3
   },
   "file_extension": ".py",
   "mimetype": "text/x-python",
   "name": "python",
   "nbconvert_exporter": "python",
   "pygments_lexer": "ipython3",
   "version": "3.7.5"
  }
 },
 "nbformat": 4,
 "nbformat_minor": 2
}
