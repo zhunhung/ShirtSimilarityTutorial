{
 "cells": [
  {
   "cell_type": "code",
   "execution_count": null,
   "metadata": {
    "ExecuteTime": {
     "end_time": "2019-12-11T14:09:08.077354Z",
     "start_time": "2019-12-11T14:09:05.970892Z"
    }
   },
   "outputs": [],
   "source": [
    "import keras\n",
    "import numpy as np\n",
    "from keras.applications import mobilenet, mobilenet_v2\n",
    "from keras.models import Model\n",
    "from keras.preprocessing.image import load_img\n",
    "from keras.preprocessing.image import img_to_array\n",
    "from keras.applications.mobilenet import preprocess_input\n",
    "from keras.preprocessing import image\n",
    "import os\n",
    "import json\n",
    "from PIL import Image\n",
    "import matplotlib.pyplot as plt\n",
    "%matplotlib inline"
   ]
  },
  {
   "cell_type": "markdown",
   "metadata": {},
   "source": [
    "## 1. Load Pre-trained MobileNet"
   ]
  },
  {
   "cell_type": "code",
   "execution_count": null,
   "metadata": {
    "ExecuteTime": {
     "end_time": "2019-12-11T14:09:11.769947Z",
     "start_time": "2019-12-11T14:09:09.084289Z"
    }
   },
   "outputs": [],
   "source": [
    "mobilenet_model = mobilenet.MobileNet(weights='imagenet')"
   ]
  },
  {
   "cell_type": "code",
   "execution_count": null,
   "metadata": {
    "ExecuteTime": {
     "end_time": "2019-12-11T14:09:20.279945Z",
     "start_time": "2019-12-11T14:09:20.267790Z"
    }
   },
   "outputs": [],
   "source": [
    "mobilenet_model.summary()"
   ]
  },
  {
   "cell_type": "markdown",
   "metadata": {},
   "source": [
    "### 1.1 Remove last 5 layers"
   ]
  },
  {
   "cell_type": "code",
   "execution_count": null,
   "metadata": {
    "ExecuteTime": {
     "end_time": "2019-12-11T14:09:21.815155Z",
     "start_time": "2019-12-11T14:09:21.801859Z"
    }
   },
   "outputs": [],
   "source": [
    "new_model = Model(mobilenet_model.inputs, mobilenet_model.layers[-6].output)\n",
    "new_model.summary()"
   ]
  },
  {
   "cell_type": "markdown",
   "metadata": {},
   "source": [
    "## 2. Create Helper Functions"
   ]
  },
  {
   "cell_type": "code",
   "execution_count": null,
   "metadata": {
    "ExecuteTime": {
     "end_time": "2019-12-11T14:09:22.725125Z",
     "start_time": "2019-12-11T14:09:22.721897Z"
    }
   },
   "outputs": [],
   "source": [
    "def prepare_image(file):\n",
    "    img = image.load_img(file, target_size=(224, 224))\n",
    "    img_array = image.img_to_array(img)\n",
    "    img_array_expanded_dims = np.expand_dims(img_array, axis=0)\n",
    "    return keras.applications.mobilenet.preprocess_input(img_array_expanded_dims)"
   ]
  },
  {
   "cell_type": "code",
   "execution_count": null,
   "metadata": {
    "ExecuteTime": {
     "end_time": "2019-12-11T14:09:23.456774Z",
     "start_time": "2019-12-11T14:09:23.453815Z"
    }
   },
   "outputs": [],
   "source": [
    "def encode_image(file):\n",
    "    preprocessed_image = prepare_image(file)\n",
    "    predictions = new_model.predict(preprocessed_image)\n",
    "    return predictions.reshape(1024)"
   ]
  },
  {
   "cell_type": "markdown",
   "metadata": {},
   "source": [
    "## 3. Visualise all the shirts"
   ]
  },
  {
   "cell_type": "code",
   "execution_count": null,
   "metadata": {
    "ExecuteTime": {
     "end_time": "2019-12-11T14:09:24.274173Z",
     "start_time": "2019-12-11T14:09:24.270710Z"
    }
   },
   "outputs": [],
   "source": [
    "shirt_folder = os.path.join(os.curdir, 'shirts')\n",
    "shirt_imgs = [os.path.join(shirt_folder, fname) for fname in os.listdir(shirt_folder) if ('shirt' in fname) and ('jpg' in fname)]"
   ]
  },
  {
   "cell_type": "code",
   "execution_count": null,
   "metadata": {
    "ExecuteTime": {
     "end_time": "2019-12-11T14:09:26.504694Z",
     "start_time": "2019-12-11T14:09:24.786851Z"
    }
   },
   "outputs": [],
   "source": [
    "fig=plt.figure(figsize=(20, 10))\n",
    "columns = 5\n",
    "rows = 2\n",
    "for i in range(1, len(shirt_imgs)+1):\n",
    "    sample_img = Image.open(shirt_imgs[i-1])\n",
    "    fig.add_subplot(rows, columns, i)\n",
    "    # Plot file name\n",
    "    plt.title(shirt_imgs[i-1].split('/')[-1])\n",
    "    plt.imshow(sample_img)\n",
    "plt.show()"
   ]
  },
  {
   "cell_type": "markdown",
   "metadata": {},
   "source": [
    "## 4. Create Image Embedding for all Shirts"
   ]
  },
  {
   "cell_type": "code",
   "execution_count": null,
   "metadata": {
    "ExecuteTime": {
     "end_time": "2019-12-11T14:09:30.538056Z",
     "start_time": "2019-12-11T14:09:29.899247Z"
    }
   },
   "outputs": [],
   "source": [
    "shirt_encoding_map = {img: encode_image(img) for img in shirt_imgs}"
   ]
  },
  {
   "cell_type": "code",
   "execution_count": null,
   "metadata": {
    "ExecuteTime": {
     "end_time": "2019-12-11T14:09:31.060870Z",
     "start_time": "2019-12-11T14:09:31.054851Z"
    }
   },
   "outputs": [],
   "source": [
    "shirt_encoding_map"
   ]
  },
  {
   "cell_type": "markdown",
   "metadata": {},
   "source": [
    "## 5. Save Image Embeddings"
   ]
  },
  {
   "cell_type": "code",
   "execution_count": null,
   "metadata": {
    "ExecuteTime": {
     "end_time": "2019-12-11T14:09:32.382692Z",
     "start_time": "2019-12-11T14:09:32.379433Z"
    }
   },
   "outputs": [],
   "source": [
    "class NumpyEncoder(json.JSONEncoder):\n",
    "    def default(self, obj):\n",
    "        if isinstance(obj, np.ndarray):\n",
    "            return obj.tolist()\n",
    "        return json.JSONEncoder.default(self, obj)"
   ]
  },
  {
   "cell_type": "code",
   "execution_count": null,
   "metadata": {
    "ExecuteTime": {
     "end_time": "2019-12-11T14:09:33.077468Z",
     "start_time": "2019-12-11T14:09:33.065209Z"
    }
   },
   "outputs": [],
   "source": [
    "json_dump = json.dumps(shirt_encoding_map, cls=NumpyEncoder)\n",
    "f = open(\"shirt_encoding.txt\",\"w+\")\n",
    "f.write(json_dump)"
   ]
  },
  {
   "cell_type": "markdown",
   "metadata": {},
   "source": [
    "## 6. Create and Test Similarity Function"
   ]
  },
  {
   "cell_type": "code",
   "execution_count": null,
   "metadata": {
    "ExecuteTime": {
     "end_time": "2019-12-11T14:09:34.239150Z",
     "start_time": "2019-12-11T14:09:34.236456Z"
    }
   },
   "outputs": [],
   "source": [
    "def load_encoding(path):\n",
    "    with open(path, 'r') as f:\n",
    "        data_encoding = f.read()\n",
    "    return json.loads(data_encoding)"
   ]
  },
  {
   "cell_type": "code",
   "execution_count": null,
   "metadata": {
    "ExecuteTime": {
     "end_time": "2019-12-11T14:09:34.779083Z",
     "start_time": "2019-12-11T14:09:34.773325Z"
    }
   },
   "outputs": [],
   "source": [
    "shirt_encoding_map = load_encoding('shirt_encoding.txt')"
   ]
  },
  {
   "cell_type": "code",
   "execution_count": null,
   "metadata": {
    "ExecuteTime": {
     "end_time": "2019-12-11T14:09:35.344203Z",
     "start_time": "2019-12-11T14:09:35.340932Z"
    }
   },
   "outputs": [],
   "source": [
    "# Cosine Similarity function\n",
    "def getCS(encoding1, encoding2):\n",
    "    return np.dot(encoding1, np.array(encoding2))/(np.linalg.norm(encoding1)*np.linalg.norm(np.array(encoding2)))"
   ]
  },
  {
   "cell_type": "code",
   "execution_count": null,
   "metadata": {
    "ExecuteTime": {
     "end_time": "2019-12-11T14:09:36.045889Z",
     "start_time": "2019-12-11T14:09:36.041046Z"
    }
   },
   "outputs": [],
   "source": [
    "def find_similar(test_image_file, base_encoding_dict, threshold=0.7):\n",
    "    test_img_encoding = encode_image(test_image_file)\n",
    "    keys = list(base_encoding_dict.keys())\n",
    "    vals = list(base_encoding_dict.values())\n",
    "    sim_arr = list(map(lambda x: getCS(test_img_encoding, x), vals))\n",
    "    idx = np.argmax(sim_arr)\n",
    "    print(dict(zip(keys, sim_arr)))\n",
    "    if sim_arr[idx] < threshold:\n",
    "        return None\n",
    "    tag = keys[idx]\n",
    "    return tag"
   ]
  },
  {
   "cell_type": "code",
   "execution_count": null,
   "metadata": {
    "ExecuteTime": {
     "end_time": "2019-12-11T14:09:36.863935Z",
     "start_time": "2019-12-11T14:09:36.631901Z"
    }
   },
   "outputs": [],
   "source": [
    "# Image to be used for testing our function\n",
    "test_img_path = 'test/test4.jpg'\n",
    "test_img = Image.open(test_img_path)\n",
    "plt.imshow(test_img)"
   ]
  },
  {
   "cell_type": "code",
   "execution_count": null,
   "metadata": {
    "ExecuteTime": {
     "end_time": "2019-12-11T14:09:37.552814Z",
     "start_time": "2019-12-11T14:09:37.505624Z"
    },
    "scrolled": true
   },
   "outputs": [],
   "source": [
    "sim_img_fname = find_similar(test_img_path, shirt_encoding_map)\n",
    "print('\\nSimilar Image: {}'.format(sim_img_fname))"
   ]
  },
  {
   "cell_type": "markdown",
   "metadata": {},
   "source": [
    "### 6.1 Visualise Similar Images"
   ]
  },
  {
   "cell_type": "code",
   "execution_count": null,
   "metadata": {
    "ExecuteTime": {
     "end_time": "2019-12-11T14:09:38.725219Z",
     "start_time": "2019-12-11T14:09:38.721442Z"
    }
   },
   "outputs": [],
   "source": [
    "def get_concat_h(im1, im2):\n",
    "    dst = Image.new('RGB', (im1.width + im2.width, max(im1.height, im2.height)))\n",
    "    dst.paste(im1, (0, 0))\n",
    "    dst.paste(im2, (im1.width, 0))\n",
    "    return dst"
   ]
  },
  {
   "cell_type": "code",
   "execution_count": null,
   "metadata": {
    "ExecuteTime": {
     "end_time": "2019-12-11T14:09:39.588859Z",
     "start_time": "2019-12-11T14:09:39.052149Z"
    }
   },
   "outputs": [],
   "source": [
    "sim_img = Image.open(sim_img_fname)\n",
    "combined_images = get_concat_h(test_img, sim_img)\n",
    "plt.title('Test Shirt - Similar Shirt')\n",
    "plt.imshow(combined_images)"
   ]
  }
 ],
 "metadata": {
  "kernelspec": {
   "display_name": "Python 3",
   "language": "python",
   "name": "python3"
  },
  "language_info": {
   "codemirror_mode": {
    "name": "ipython",
    "version": 3
   },
   "file_extension": ".py",
   "mimetype": "text/x-python",
   "name": "python",
   "nbconvert_exporter": "python",
   "pygments_lexer": "ipython3",
   "version": "3.7.3"
  }
 },
 "nbformat": 4,
 "nbformat_minor": 2
}
